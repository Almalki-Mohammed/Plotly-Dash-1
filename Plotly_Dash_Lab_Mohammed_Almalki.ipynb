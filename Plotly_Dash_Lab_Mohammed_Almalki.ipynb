{
 "cells": [
  {
   "cell_type": "markdown",
   "metadata": {},
   "source": [
    "# Q0: import dash standard libraries"
   ]
  },
  {
   "cell_type": "code",
   "execution_count": null,
   "metadata": {},
   "outputs": [],
   "source": [
    "from jupyter_dash import JupyterDash\n",
    "from dash import Dash, dcc, html, Input, Output\n",
    "from jupyter_dash import JupyterDash\n",
    "import plotly.express as px\n",
    "import dash\n",
    "app = JupyterDash()"
   ]
  },
  {
   "cell_type": "markdown",
   "metadata": {},
   "source": [
    "# Q1: Make dash that prints \"Data Science\""
   ]
  },
  {
   "cell_type": "code",
   "execution_count": null,
   "metadata": {},
   "outputs": [],
   "source": [
    "#app.layout=html.H1(['Data Science'])\n",
    "#app.run_server()\n"
   ]
  },
  {
   "cell_type": "markdown",
   "metadata": {},
   "source": [
    "# Q2: Make dash that takes name input and outpt \"Welcome to Data Science dashboard {name}\""
   ]
  },
  {
   "cell_type": "code",
   "execution_count": null,
   "metadata": {},
   "outputs": [],
   "source": [
    "#import dash_bootstrap_components as dbc"
   ]
  },
  {
   "cell_type": "code",
   "execution_count": null,
   "metadata": {},
   "outputs": [],
   "source": [
    "'''\n",
    "app.layout = html.Div([\n",
    "    html.H1('Enter your name: '),\n",
    "    dcc.Input(\n",
    "        id='name', type='text'),\n",
    "    html.Div(id='output')\n",
    "])\n",
    "@app.callback(\n",
    "Output('output','children'),\n",
    "Input('name','value')\n",
    ")\n",
    "\n",
    "def update_output_div(name):\n",
    "    return f'Welcome to Data Science dashboard {name}'\n",
    "\n",
    "app.run_server()\n",
    "'''"
   ]
  },
  {
   "cell_type": "code",
   "execution_count": null,
   "metadata": {},
   "outputs": [],
   "source": []
  },
  {
   "cell_type": "markdown",
   "metadata": {},
   "source": [
    "# Q3: Make Plotly-Dash that takes two inputs (numbers) and output 3 numbers x, y , z= x+y\n",
    "- hint: use html.Div, dcc.Input(type='number')"
   ]
  },
  {
   "cell_type": "code",
   "execution_count": null,
   "metadata": {},
   "outputs": [],
   "source": [
    "'''\n",
    "app.layout = html.Div([\n",
    "    html.H1('Enter tow numper: '),\n",
    "    dcc.Input(\n",
    "        id='x', type='number'),\n",
    "    dcc.Input(\n",
    "    id='y', type='number'),\n",
    "\n",
    "    html.Div(id='output')\n",
    "])\n",
    "@app.callback(\n",
    "Output('output','children'),\n",
    "Input('x','value'),\n",
    "Input('y','value')\n",
    ")\n",
    "\n",
    "def update_output_div(x,y):\n",
    "    z = x + y\n",
    "    return f'Welcome to Data Science dashboard {x,y,z}'\n",
    "\n",
    "app.run_server()'''"
   ]
  },
  {
   "cell_type": "markdown",
   "metadata": {},
   "source": [
    "# Q4.1: Make JubyterDash with Rangeslider from 1-15 with 6 option"
   ]
  },
  {
   "cell_type": "code",
   "execution_count": null,
   "metadata": {},
   "outputs": [],
   "source": [
    "'''\n",
    "app.layout= html.Div([\n",
    "    html.H1('JubyterDash with Rangeslider from 1-15 with 6 option '),\n",
    "    dcc.RangeSlider(1,15,3,id='jubyterDash_rangeslider'),\n",
    "    html.Div(id='output')\n",
    "])\n",
    "@app.callback(\n",
    "Output('output','children'),\n",
    "Input('jubyterDash_rangeslider','value')\n",
    ")\n",
    "\n",
    "def updata_output_div(jubyterDash_rangeslider):\n",
    "        return {jubyterDash_rangeslider}\n",
    "\n",
    "app.run_server()\n",
    "'''"
   ]
  },
  {
   "cell_type": "markdown",
   "metadata": {},
   "source": [
    "# Q4.2: add to the previous dash: Label, set default value on rangeslider as 7-10"
   ]
  },
  {
   "cell_type": "code",
   "execution_count": null,
   "metadata": {},
   "outputs": [],
   "source": [
    "'''\n",
    "app.layout= html.Div([\n",
    "    html.H1('default value on rangeslider as 7-10'),\n",
    "    html.Label('selcet of range:'),\n",
    "    dcc.RangeSlider(1,15,1,\n",
    "                    value=[7,10],\n",
    "                    allowCross = False,\n",
    "                    id='jubyterDash_rangeslider'),\n",
    "                    \n",
    "    html.Div(id='output')\n",
    "])\n",
    "@app.callback(\n",
    "Output('output','children'),\n",
    "Input('jubyterDash_rangeslider','value')\n",
    ")\n",
    "\n",
    "def updata_output_div(jubyterDash_rangeslider):\n",
    "    return {jubyterDash_rangeslider}\n",
    "\n",
    "app.run_server()\n",
    "'''"
   ]
  },
  {
   "cell_type": "code",
   "execution_count": null,
   "metadata": {},
   "outputs": [],
   "source": [
    "'''\n",
    "تجربه\n",
    "app.layout = html.Div([\n",
    "    html.H1(\"Rangeslider Example\"),\n",
    "    html.Label(\"Select a range:\"),\n",
    "    dcc.RangeSlider(\n",
    "        id='my-rangeslider',\n",
    "        min=1,\n",
    "        max=15,\n",
    "        marks={i: str(i) for i in range(1, 16)},\n",
    "        value=[7, 10],\n",
    "        step=1,\n",
    "        allowCross=False\n",
    "    ),\n",
    "    html.Div(id='output-container')\n",
    "])\n",
    "\n",
    "@app.callback(\n",
    "    Output('output-container', 'children'),\n",
    "    [Input('my-rangeslider', 'value')]\n",
    ")\n",
    "def update_output(value):\n",
    "    return f\"You have selected range {value[0]} to {value[1]}\"\n",
    "\n",
    "app.run_server()\n",
    "'''"
   ]
  },
  {
   "cell_type": "markdown",
   "metadata": {},
   "source": [
    "# Q5: Make 3 different Dcc types (Dropdown - Checkbox...) in one dash"
   ]
  },
  {
   "cell_type": "code",
   "execution_count": null,
   "metadata": {},
   "outputs": [],
   "source": [
    "'''\n",
    "app.layout = html.Div([\n",
    "    html.H1(\"3 different Core Components Example\"),\n",
    "    \n",
    "    html.Label(\"Dropdown\"),\n",
    "    dcc.Dropdown(\n",
    "        options=[\n",
    "        {'label': 'علم الببانات', 'value': 'opt1'},\n",
    "        {'label': 'تعلم الاله', 'value': 'opt2'},\n",
    "        {'label': 'برمجة الالعاب', 'value': 'opt3'},\n",
    "        {'label': 'الامن السيبراني', 'value': 'opt4'},\n",
    "        {'label': 'برمجة التطبيقات', 'value': 'opt5'}\n",
    "        ],\n",
    "        value='اختار'\n",
    "    ),\n",
    "\n",
    "    html.Label(\"Checkbox\"),\n",
    "    dcc.Checklist(\n",
    "        options=[\n",
    "        {'label': 'علم الببانات ', 'value': 'chk1'},\n",
    "        {'label': 'تعلم الاله', 'value': ' chk2'},\n",
    "        {'label': 'برمجة الالعاب', 'value': 'chk3'},\n",
    "        {'label': 'الامن السيبراني', 'value': 'chk4'},\n",
    "        {'label': 'برمجة التطبيقات', 'value': 'chk5'}\n",
    "        ],\n",
    "        value=['chk1','chk2','chk3','chk4','chk5']\n",
    "    ),\n",
    "\n",
    "    html.Label(\"Enter text\"),\n",
    "    dcc.Input(\n",
    "        type='text',\n",
    "        placeholder='Enter text...'\n",
    "    )\n",
    "])\n",
    "\n",
    "app.run_server()\n",
    "'''"
   ]
  },
  {
   "cell_type": "markdown",
   "metadata": {},
   "source": [
    "# Q6: Make Plotly chart, then add it to a plotly_dash"
   ]
  },
  {
   "cell_type": "code",
   "execution_count": null,
   "metadata": {},
   "outputs": [],
   "source": [
    "'''\n",
    "fig = px.line(\n",
    "    x=[\"a\",\"b\",\"c\"], y=[1,3,2],\n",
    "    title=\"Plotly chart\", height=400\n",
    ")\n",
    "app.layout = html.Div([\n",
    "    html.H1('Displaying plotly_dash'),\n",
    "    dcc.Graph(id=\"graph\", figure=fig),\n",
    "    html.Div(id='structure')\n",
    "])\n",
    "\n",
    "\n",
    "@app.callback(\n",
    "    Output(\"structure\", \"children\"), \n",
    "    Input(\"graph\", \"figure\"))\n",
    "def update_output(fig):\n",
    "    return fig\n",
    "\n",
    "\n",
    "app.run_server()\n",
    "'''"
   ]
  },
  {
   "cell_type": "markdown",
   "metadata": {},
   "source": [
    "# Q7: From our data make plotly-dash with suitble chart, and Dropdown.\n",
    "\n",
    "- Dropdown should contain at least 3 options, each one represents different column.\n",
    "- Add label to dropdown.\n",
    "- The chart data should change depending on the selected dropdown option."
   ]
  },
  {
   "cell_type": "code",
   "execution_count": null,
   "metadata": {},
   "outputs": [],
   "source": [
    "import pandas as pd\n",
    "df= pd.read_csv(\"titanic passenger list.csv\")"
   ]
  },
  {
   "cell_type": "code",
   "execution_count": null,
   "metadata": {},
   "outputs": [],
   "source": [
    "'''app = dash.Dash()\n",
    "dropdown_options=[\n",
    "            {'label': 'sex', 'value': 'sex'},\n",
    "            {'label': 'Pclass', 'value': 'pclass'},\n",
    "            {'label': 'survived', 'value': 'survived'}\n",
    "\n",
    "]\n",
    "app.layout = html.Div([\n",
    "    html.H1(\"Titanic passenger\"),\n",
    "    dcc.Dropdown(\n",
    "        id='dropdown_column',\n",
    "        options=dropdown_options,\n",
    "        value='sex' \n",
    "    ),\n",
    "    dcc.Graph(id='chart')\n",
    "])\n",
    "@app.callback(\n",
    "    Output('chart', 'figure'),\n",
    "    Input('dropdown-column', 'value')\n",
    ")\n",
    "def update_chart(selected_column):\n",
    "    count_va = df[selected_column].value_counts().reset_index()\n",
    "    count_va.columns = ['Value', 'Count']\n",
    "    \n",
    "    fig = px.bar(count_va, x='Value', y='Count', title=f'{selected_column.capitalize()}')\n",
    "    return fig\n",
    "\n",
    "app.run_server()\n",
    "'''"
   ]
  },
  {
   "cell_type": "markdown",
   "metadata": {},
   "source": [
    "# Q8: add 2 more charts to the prevoius Ploty-Dash"
   ]
  },
  {
   "cell_type": "code",
   "execution_count": null,
   "metadata": {},
   "outputs": [],
   "source": [
    "'''\n",
    "app = dash.Dash()\n",
    "dropdown_options=[\n",
    "            {'label': 'sex', 'value': 'sex'},\n",
    "            {'label': 'Pclass', 'value': 'pclass'},\n",
    "            {'label': 'survived', 'value': 'survived'}\n",
    "\n",
    "]\n",
    "app.layout = html.Div([\n",
    "    html.H1(\"Titanic passenger\"),\n",
    "    dcc.Dropdown(\n",
    "        id='dropdown_column',\n",
    "        options=dropdown_options,\n",
    "        value='sex' \n",
    "    ),\n",
    "    dcc.Graph(id='chart_1'),\n",
    "    dcc.Graph(id='chart_2'),\n",
    "    dcc.Graph(id='chart_3'),\n",
    "])\n",
    "@app.callback(\n",
    "    Output('chart', 'figure'),\n",
    "    Input('dropdown-column', 'value')\n",
    ")\n",
    "def bar_chart(selected_column):\n",
    "    count_va = df[selected_column].value_counts().reset_index()\n",
    "    count_va.columns = ['Value', 'Count']\n",
    "    fig = px.bar(count_va, x='Value', y='Count', title={selected_column.capitalize()})\n",
    "    return fig\n",
    "\n",
    "\n",
    "@app.callback(\n",
    "    Output('chart-1', 'figure'),\n",
    "    Output('chart-2', 'figure'),\n",
    "    Output('chart-3', 'figure'),\n",
    "    Input('dropdown_options', 'value'),\n",
    "    Input('dropdown_options', 'value'),\n",
    "    Input('dropdown_options', 'value')\n",
    ")\n",
    "def update_chart(selected_column):\n",
    "    return bar_chart(selected_column)\n",
    "\n",
    "app.run_server()\n",
    "'''"
   ]
  },
  {
   "cell_type": "markdown",
   "metadata": {},
   "source": [
    "# Q9: Search for \"Plotly Gallery\" and fetch for a graph and use it with our data.\n",
    "\n",
    "- Note: You need to put the resourse addres of fetched your grapth."
   ]
  },
  {
   "cell_type": "code",
   "execution_count": null,
   "metadata": {},
   "outputs": [],
   "source": [
    "#https://plotly.com/python/bar-charts/\n",
    "'''\n",
    "fig = px.bar(df, x=\"age\", y=\"survived\", color=\"sex\", title=\"The Bar\");\n",
    "\n",
    "app = dash.Dash()\n",
    "html.Label('Ploty-Dash')\n",
    "app.layout= html.Div([\n",
    "    dcc.Graph(id='Plotly Gallery',figure=fig)\n",
    "])\n",
    "app.run_server()\n",
    "'''"
   ]
  },
  {
   "cell_type": "markdown",
   "metadata": {},
   "source": [
    "# Challenge 1.1: Create Plotly dash with two charts depends on different columns of the data\n",
    "- First Chart : Pie\n",
    "- Secound Chart: is by your Choice ( Not Pie )"
   ]
  },
  {
   "cell_type": "code",
   "execution_count": null,
   "metadata": {},
   "outputs": [],
   "source": []
  },
  {
   "cell_type": "markdown",
   "metadata": {},
   "source": [
    "# Challenge 1.2: Make Hovering over a slice of the pie changes the data for the second chart depending on what the slice is."
   ]
  },
  {
   "cell_type": "code",
   "execution_count": null,
   "metadata": {},
   "outputs": [],
   "source": []
  }
 ],
 "metadata": {
  "kernelspec": {
   "display_name": "Python 3 (ipykernel)",
   "language": "python",
   "name": "python3"
  },
  "language_info": {
   "codemirror_mode": {
    "name": "ipython",
    "version": 3
   },
   "file_extension": ".py",
   "mimetype": "text/x-python",
   "name": "python",
   "nbconvert_exporter": "python",
   "pygments_lexer": "ipython3",
   "version": "3.11.3"
  }
 },
 "nbformat": 4,
 "nbformat_minor": 2
}
